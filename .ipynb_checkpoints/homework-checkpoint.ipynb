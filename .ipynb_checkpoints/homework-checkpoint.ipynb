{
 "cells": [
  {
   "cell_type": "code",
   "execution_count": 1,
   "metadata": {},
   "outputs": [],
   "source": [
    "import pysam\n",
    "from Bio import SeqIO"
   ]
  },
  {
   "cell_type": "markdown",
   "metadata": {},
   "source": [
    "# Count nucleotide content of each read in fasta file\n",
    "Implement a function that takes a fasta file and counts nucleotide content of each of its entries. The function should be in the lib.homework file and can be tested by running `docker-compose -f run_test.yml up`"
   ]
  },
  {
   "cell_type": "code",
   "execution_count": 29,
   "metadata": {},
   "outputs": [],
   "source": [
    "from lib.homework import get_nucleotide_content"
   ]
  },
  {
   "cell_type": "code",
   "execution_count": 30,
   "metadata": {},
   "outputs": [],
   "source": [
    "with open(\"./example_files/example1.fa\") as f:\n",
    "    fasta = SeqIO.parse(f, \"fasta\")\n",
    "    nucleotide_content = get_nucleotide_content(fasta)"
   ]
  },
  {
   "cell_type": "code",
   "execution_count": 31,
   "metadata": {},
   "outputs": [
    {
     "data": {
      "text/plain": [
       "{'HSBGPG': {'A': 0.17627944760357434,\n",
       "  'C': 0.3322502030869212,\n",
       "  'G': 0.30300568643379366,\n",
       "  'T': 0.18846466287571081},\n",
       " 'HSGLTH1': {'A': 0.14313725490196078,\n",
       "  'C': 0.35490196078431374,\n",
       "  'G': 0.35,\n",
       "  'T': 0.15196078431372548}}"
      ]
     },
     "execution_count": 31,
     "metadata": {},
     "output_type": "execute_result"
    }
   ],
   "source": [
    "nucleotide_content"
   ]
  },
  {
   "cell_type": "markdown",
   "metadata": {},
   "source": [
    "# Remove Illumina adapters from fastq reads\n",
    "In this exercise, you should first implement a function called `remove_adapter` in `lib.homework` that takes a `SeqRecord` object (returned by `Bio.SeqIO`) and an adapter sequence and removes all nucleotides after the occurence of the adapter. The function should return a single `SeqRecord` object with adapters removed. We will implement a simple adapter finding procedure, where an exact match with an adapter is searched for. In a real scenario, we would try to partially match the adapter sequence."
   ]
  },
  {
   "cell_type": "code",
   "execution_count": 32,
   "metadata": {},
   "outputs": [],
   "source": [
    "from lib.homework import remove_adapter"
   ]
  },
  {
   "cell_type": "code",
   "execution_count": 33,
   "metadata": {},
   "outputs": [],
   "source": [
    "with open(\"./example_files/example2.fq\") as f:\n",
    "    fasta = list(SeqIO.parse(f, \"fastq\"))"
   ]
  },
  {
   "cell_type": "code",
   "execution_count": 34,
   "metadata": {},
   "outputs": [
    {
     "data": {
      "text/plain": [
       "Seq('NAGACTTAAAGACAGTTCAATGACTACGGA')"
      ]
     },
     "execution_count": 34,
     "metadata": {},
     "output_type": "execute_result"
    }
   ],
   "source": [
    "remove_adapter(fasta[0], \"AGATCGG\").seq"
   ]
  },
  {
   "cell_type": "markdown",
   "metadata": {},
   "source": [
    "# Calculate point mutation rate of reads in samfile\n",
    "In this final task, you should implement a function called `count_point_mutations` that takes as input a `pysam.AlignmentFile` and returns a dictionary with all possible point mutations as keys ( `TC` for a T-to-C mutation etc. ) and the number of all found point mutations of this type over all reads."
   ]
  },
  {
   "cell_type": "code",
   "execution_count": 2,
   "metadata": {},
   "outputs": [],
   "source": [
    "from lib.homework import count_point_mutations"
   ]
  },
  {
   "cell_type": "code",
   "execution_count": 3,
   "metadata": {},
   "outputs": [],
   "source": [
    "reads = list(pysam.AlignmentFile(\"./example_files/example1.sam\", \"r\"))"
   ]
  },
  {
   "cell_type": "code",
   "execution_count": 4,
   "metadata": {},
   "outputs": [],
   "source": [
    "point_mutations = count_point_mutations(reads)"
   ]
  },
  {
   "cell_type": "code",
   "execution_count": 5,
   "metadata": {},
   "outputs": [
    {
     "data": {
      "text/plain": [
       "{'AC': 103,\n",
       " 'AG': 256,\n",
       " 'AT': 182,\n",
       " 'CA': 56,\n",
       " 'CG': 31,\n",
       " 'CT': 198,\n",
       " 'GA': 151,\n",
       " 'GC': 39,\n",
       " 'GT': 34,\n",
       " 'TA': 166,\n",
       " 'TC': 238,\n",
       " 'TG': 112}"
      ]
     },
     "execution_count": 5,
     "metadata": {},
     "output_type": "execute_result"
    }
   ],
   "source": [
    "point_mutations"
   ]
  },
  {
   "cell_type": "code",
   "execution_count": null,
   "metadata": {},
   "outputs": [],
   "source": []
  }
 ],
 "metadata": {
  "kernelspec": {
   "display_name": "Python 3",
   "language": "python",
   "name": "python3"
  },
  "language_info": {
   "codemirror_mode": {
    "name": "ipython",
    "version": 3
   },
   "file_extension": ".py",
   "mimetype": "text/x-python",
   "name": "python",
   "nbconvert_exporter": "python",
   "pygments_lexer": "ipython3",
   "version": "3.8.0"
  }
 },
 "nbformat": 4,
 "nbformat_minor": 4
}
